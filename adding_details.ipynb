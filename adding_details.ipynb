version https://git-lfs.github.com/spec/v1
oid sha256:7596f7266487ef254a03ccdd6b5ecdf8c0c80ac511e104f3a1f53c79160e79f4
size 17169
